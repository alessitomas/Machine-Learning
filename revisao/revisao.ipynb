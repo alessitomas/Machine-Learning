{
 "cells": [
  {
   "cell_type": "markdown",
   "metadata": {},
   "source": [
    "# Projeto de Machine Learning"
   ]
  },
  {
   "cell_type": "code",
   "execution_count": 232,
   "metadata": {},
   "outputs": [],
   "source": [
    "import pandas as pd\n",
    "housing_df = pd.read_csv('housing.csv')"
   ]
  },
  {
   "cell_type": "code",
   "execution_count": 233,
   "metadata": {},
   "outputs": [
    {
     "data": {
      "text/html": [
       "<div>\n",
       "<style scoped>\n",
       "    .dataframe tbody tr th:only-of-type {\n",
       "        vertical-align: middle;\n",
       "    }\n",
       "\n",
       "    .dataframe tbody tr th {\n",
       "        vertical-align: top;\n",
       "    }\n",
       "\n",
       "    .dataframe thead th {\n",
       "        text-align: right;\n",
       "    }\n",
       "</style>\n",
       "<table border=\"1\" class=\"dataframe\">\n",
       "  <thead>\n",
       "    <tr style=\"text-align: right;\">\n",
       "      <th></th>\n",
       "      <th>longitude</th>\n",
       "      <th>latitude</th>\n",
       "      <th>housing_median_age</th>\n",
       "      <th>total_rooms</th>\n",
       "      <th>total_bedrooms</th>\n",
       "      <th>population</th>\n",
       "      <th>households</th>\n",
       "      <th>median_income</th>\n",
       "      <th>median_house_value</th>\n",
       "      <th>ocean_proximity</th>\n",
       "    </tr>\n",
       "  </thead>\n",
       "  <tbody>\n",
       "    <tr>\n",
       "      <th>0</th>\n",
       "      <td>-122.23</td>\n",
       "      <td>37.88</td>\n",
       "      <td>41.0</td>\n",
       "      <td>880.0</td>\n",
       "      <td>129.0</td>\n",
       "      <td>322.0</td>\n",
       "      <td>126.0</td>\n",
       "      <td>8.3252</td>\n",
       "      <td>452600.0</td>\n",
       "      <td>NEAR BAY</td>\n",
       "    </tr>\n",
       "    <tr>\n",
       "      <th>1</th>\n",
       "      <td>-122.22</td>\n",
       "      <td>37.86</td>\n",
       "      <td>21.0</td>\n",
       "      <td>7099.0</td>\n",
       "      <td>1106.0</td>\n",
       "      <td>2401.0</td>\n",
       "      <td>1138.0</td>\n",
       "      <td>8.3014</td>\n",
       "      <td>358500.0</td>\n",
       "      <td>NEAR BAY</td>\n",
       "    </tr>\n",
       "    <tr>\n",
       "      <th>2</th>\n",
       "      <td>-122.24</td>\n",
       "      <td>37.85</td>\n",
       "      <td>52.0</td>\n",
       "      <td>1467.0</td>\n",
       "      <td>190.0</td>\n",
       "      <td>496.0</td>\n",
       "      <td>177.0</td>\n",
       "      <td>7.2574</td>\n",
       "      <td>352100.0</td>\n",
       "      <td>NEAR BAY</td>\n",
       "    </tr>\n",
       "    <tr>\n",
       "      <th>3</th>\n",
       "      <td>-122.25</td>\n",
       "      <td>37.85</td>\n",
       "      <td>52.0</td>\n",
       "      <td>1274.0</td>\n",
       "      <td>235.0</td>\n",
       "      <td>558.0</td>\n",
       "      <td>219.0</td>\n",
       "      <td>5.6431</td>\n",
       "      <td>341300.0</td>\n",
       "      <td>NEAR BAY</td>\n",
       "    </tr>\n",
       "    <tr>\n",
       "      <th>4</th>\n",
       "      <td>-122.25</td>\n",
       "      <td>37.85</td>\n",
       "      <td>52.0</td>\n",
       "      <td>1627.0</td>\n",
       "      <td>280.0</td>\n",
       "      <td>565.0</td>\n",
       "      <td>259.0</td>\n",
       "      <td>3.8462</td>\n",
       "      <td>342200.0</td>\n",
       "      <td>NEAR BAY</td>\n",
       "    </tr>\n",
       "  </tbody>\n",
       "</table>\n",
       "</div>"
      ],
      "text/plain": [
       "   longitude  latitude  housing_median_age  total_rooms  total_bedrooms  \\\n",
       "0    -122.23     37.88                41.0        880.0           129.0   \n",
       "1    -122.22     37.86                21.0       7099.0          1106.0   \n",
       "2    -122.24     37.85                52.0       1467.0           190.0   \n",
       "3    -122.25     37.85                52.0       1274.0           235.0   \n",
       "4    -122.25     37.85                52.0       1627.0           280.0   \n",
       "\n",
       "   population  households  median_income  median_house_value ocean_proximity  \n",
       "0       322.0       126.0         8.3252            452600.0        NEAR BAY  \n",
       "1      2401.0      1138.0         8.3014            358500.0        NEAR BAY  \n",
       "2       496.0       177.0         7.2574            352100.0        NEAR BAY  \n",
       "3       558.0       219.0         5.6431            341300.0        NEAR BAY  \n",
       "4       565.0       259.0         3.8462            342200.0        NEAR BAY  "
      ]
     },
     "execution_count": 233,
     "metadata": {},
     "output_type": "execute_result"
    }
   ],
   "source": [
    "housing_df.head()"
   ]
  },
  {
   "cell_type": "code",
   "execution_count": 234,
   "metadata": {},
   "outputs": [],
   "source": [
    "X,y = housing_df.drop(labels='median_house_value',axis=1) , housing_df['median_house_value']"
   ]
  },
  {
   "cell_type": "markdown",
   "metadata": {},
   "source": [
    "Train Test Split, para que não ocorra vazamento de dados de teste no treinamento"
   ]
  },
  {
   "cell_type": "code",
   "execution_count": 235,
   "metadata": {},
   "outputs": [],
   "source": [
    "from sklearn.model_selection import train_test_split\n",
    "RANDOM_SEED = 42\n",
    "\n",
    "X_train, X_test, y_train, y_test = train_test_split(X,y, test_size=0.2, random_state=RANDOM_SEED)"
   ]
  },
  {
   "cell_type": "code",
   "execution_count": 236,
   "metadata": {},
   "outputs": [
    {
     "data": {
      "text/html": [
       "<div>\n",
       "<style scoped>\n",
       "    .dataframe tbody tr th:only-of-type {\n",
       "        vertical-align: middle;\n",
       "    }\n",
       "\n",
       "    .dataframe tbody tr th {\n",
       "        vertical-align: top;\n",
       "    }\n",
       "\n",
       "    .dataframe thead th {\n",
       "        text-align: right;\n",
       "    }\n",
       "</style>\n",
       "<table border=\"1\" class=\"dataframe\">\n",
       "  <thead>\n",
       "    <tr style=\"text-align: right;\">\n",
       "      <th></th>\n",
       "      <th>longitude</th>\n",
       "      <th>latitude</th>\n",
       "      <th>housing_median_age</th>\n",
       "      <th>total_rooms</th>\n",
       "      <th>total_bedrooms</th>\n",
       "      <th>population</th>\n",
       "      <th>households</th>\n",
       "      <th>median_income</th>\n",
       "      <th>ocean_proximity</th>\n",
       "    </tr>\n",
       "  </thead>\n",
       "  <tbody>\n",
       "    <tr>\n",
       "      <th>14196</th>\n",
       "      <td>-117.03</td>\n",
       "      <td>32.71</td>\n",
       "      <td>33.0</td>\n",
       "      <td>3126.0</td>\n",
       "      <td>627.0</td>\n",
       "      <td>2300.0</td>\n",
       "      <td>623.0</td>\n",
       "      <td>3.2596</td>\n",
       "      <td>NEAR OCEAN</td>\n",
       "    </tr>\n",
       "    <tr>\n",
       "      <th>8267</th>\n",
       "      <td>-118.16</td>\n",
       "      <td>33.77</td>\n",
       "      <td>49.0</td>\n",
       "      <td>3382.0</td>\n",
       "      <td>787.0</td>\n",
       "      <td>1314.0</td>\n",
       "      <td>756.0</td>\n",
       "      <td>3.8125</td>\n",
       "      <td>NEAR OCEAN</td>\n",
       "    </tr>\n",
       "    <tr>\n",
       "      <th>17445</th>\n",
       "      <td>-120.48</td>\n",
       "      <td>34.66</td>\n",
       "      <td>4.0</td>\n",
       "      <td>1897.0</td>\n",
       "      <td>331.0</td>\n",
       "      <td>915.0</td>\n",
       "      <td>336.0</td>\n",
       "      <td>4.1563</td>\n",
       "      <td>NEAR OCEAN</td>\n",
       "    </tr>\n",
       "    <tr>\n",
       "      <th>14265</th>\n",
       "      <td>-117.11</td>\n",
       "      <td>32.69</td>\n",
       "      <td>36.0</td>\n",
       "      <td>1421.0</td>\n",
       "      <td>367.0</td>\n",
       "      <td>1418.0</td>\n",
       "      <td>355.0</td>\n",
       "      <td>1.9425</td>\n",
       "      <td>NEAR OCEAN</td>\n",
       "    </tr>\n",
       "    <tr>\n",
       "      <th>2271</th>\n",
       "      <td>-119.80</td>\n",
       "      <td>36.78</td>\n",
       "      <td>43.0</td>\n",
       "      <td>2382.0</td>\n",
       "      <td>431.0</td>\n",
       "      <td>874.0</td>\n",
       "      <td>380.0</td>\n",
       "      <td>3.5542</td>\n",
       "      <td>INLAND</td>\n",
       "    </tr>\n",
       "  </tbody>\n",
       "</table>\n",
       "</div>"
      ],
      "text/plain": [
       "       longitude  latitude  housing_median_age  total_rooms  total_bedrooms  \\\n",
       "14196    -117.03     32.71                33.0       3126.0           627.0   \n",
       "8267     -118.16     33.77                49.0       3382.0           787.0   \n",
       "17445    -120.48     34.66                 4.0       1897.0           331.0   \n",
       "14265    -117.11     32.69                36.0       1421.0           367.0   \n",
       "2271     -119.80     36.78                43.0       2382.0           431.0   \n",
       "\n",
       "       population  households  median_income ocean_proximity  \n",
       "14196      2300.0       623.0         3.2596      NEAR OCEAN  \n",
       "8267       1314.0       756.0         3.8125      NEAR OCEAN  \n",
       "17445       915.0       336.0         4.1563      NEAR OCEAN  \n",
       "14265      1418.0       355.0         1.9425      NEAR OCEAN  \n",
       "2271        874.0       380.0         3.5542          INLAND  "
      ]
     },
     "execution_count": 236,
     "metadata": {},
     "output_type": "execute_result"
    }
   ],
   "source": [
    "X_train.head()"
   ]
  },
  {
   "cell_type": "markdown",
   "metadata": {},
   "source": [
    "# Data Processing"
   ]
  },
  {
   "cell_type": "code",
   "execution_count": 237,
   "metadata": {},
   "outputs": [
    {
     "name": "stdout",
     "output_type": "stream",
     "text": [
      "<class 'pandas.core.frame.DataFrame'>\n",
      "      ocean_proximity\n",
      "14196      NEAR OCEAN\n",
      "8267       NEAR OCEAN\n",
      "17445      NEAR OCEAN\n",
      "14265      NEAR OCEAN\n",
      "2271           INLAND\n"
     ]
    }
   ],
   "source": [
    "# Separar apenas as variáveis categóricas (neste caso temos apenas uma).\n",
    "X_train_cat = X_train[[\"ocean_proximity\"]]\n",
    "print(type(X_train_cat))\n",
    "print(X_train_cat.head())\n"
   ]
  },
  {
   "cell_type": "code",
   "execution_count": 238,
   "metadata": {},
   "outputs": [
    {
     "name": "stdout",
     "output_type": "stream",
     "text": [
      "ocean_proximity\n",
      "<1H OCEAN     7341\n",
      "INLAND        5227\n",
      "NEAR OCEAN    2086\n",
      "NEAR BAY      1854\n",
      "ISLAND           4\n",
      "Name: count, dtype: int64\n"
     ]
    }
   ],
   "source": [
    "print(X_train_cat[\"ocean_proximity\"].value_counts())\n",
    "\n"
   ]
  },
  {
   "cell_type": "markdown",
   "metadata": {},
   "source": [
    "Usando o transformador OneHotEncoder do SciKitLearn na variável categórica, e criando um pipeline específica para essa transformação"
   ]
  },
  {
   "cell_type": "code",
   "execution_count": 239,
   "metadata": {},
   "outputs": [
    {
     "name": "stderr",
     "output_type": "stream",
     "text": [
      "/Users/tomasalessi/INSPER/4-Semestre/ML/Machine-Learning/env/lib/python3.11/site-packages/sklearn/preprocessing/_encoders.py:972: FutureWarning: `sparse` was renamed to `sparse_output` in version 1.2 and will be removed in 1.4. `sparse_output` is ignored unless you leave `sparse` to its default value.\n",
      "  warnings.warn(\n"
     ]
    },
    {
     "data": {
      "text/plain": [
       "array([[0., 0., 0., 1.],\n",
       "       [0., 0., 0., 1.],\n",
       "       [0., 0., 0., 1.],\n",
       "       ...,\n",
       "       [0., 0., 0., 0.],\n",
       "       [0., 0., 0., 0.],\n",
       "       [0., 0., 1., 0.]])"
      ]
     },
     "execution_count": 239,
     "metadata": {},
     "output_type": "execute_result"
    }
   ],
   "source": [
    "from sklearn.pipeline import Pipeline\n",
    "from sklearn.preprocessing import OneHotEncoder\n",
    "cat_pipeline = Pipeline([\n",
    "        ('cat_encoder', OneHotEncoder(sparse=False, drop='first')),\n",
    "    ])\n",
    "\n",
    "housing_cat_tr = cat_pipeline.fit_transform(X_train_cat)\n",
    "housing_cat_tr"
   ]
  },
  {
   "cell_type": "code",
   "execution_count": 240,
   "metadata": {},
   "outputs": [],
   "source": [
    "X_train_num = X_train.drop(\"ocean_proximity\", axis=1)"
   ]
  },
  {
   "cell_type": "markdown",
   "metadata": {},
   "source": [
    "# Feature Engeneering"
   ]
  },
  {
   "cell_type": "code",
   "execution_count": 241,
   "metadata": {},
   "outputs": [],
   "source": [
    "from sklearn.base import BaseEstimator, TransformerMixin\n",
    "import numpy as np\n",
    "\n",
    "class CombinedAttributesAdder(BaseEstimator, TransformerMixin):\n",
    "    # Column index.\n",
    "    rooms_ix, bedrooms_ix, population_ix, household_ix = 3, 4, 5, 6\n",
    "    \n",
    "    def __init__(self, add_bedrooms_per_room=True):  # No *args or **kwargs.\n",
    "        self.add_bedrooms_per_room = add_bedrooms_per_room\n",
    "        \n",
    "    def fit(self, X, y=None):\n",
    "        return self  # Nothing else to do.\n",
    "\n",
    "    def transform(self, X, y=None):\n",
    "        rooms_per_household = X[:, CombinedAttributesAdder.rooms_ix] / X[:, CombinedAttributesAdder.household_ix]\n",
    "        population_per_household = X[:, CombinedAttributesAdder.population_ix] / X[:, CombinedAttributesAdder.household_ix]\n",
    "\n",
    "        if self.add_bedrooms_per_room:\n",
    "            bedrooms_per_room = X[:, CombinedAttributesAdder.bedrooms_ix] / X[:, CombinedAttributesAdder.rooms_ix]\n",
    "            return np.c_[X, rooms_per_household, population_per_household, bedrooms_per_room]\n",
    "        else:\n",
    "            return np.c_[X, rooms_per_household, population_per_household]\n",
    "\n",
    "attr_adder = CombinedAttributesAdder(add_bedrooms_per_room=False)\n"
   ]
  },
  {
   "cell_type": "code",
   "execution_count": 242,
   "metadata": {},
   "outputs": [
    {
     "data": {
      "text/html": [
       "<div>\n",
       "<style scoped>\n",
       "    .dataframe tbody tr th:only-of-type {\n",
       "        vertical-align: middle;\n",
       "    }\n",
       "\n",
       "    .dataframe tbody tr th {\n",
       "        vertical-align: top;\n",
       "    }\n",
       "\n",
       "    .dataframe thead th {\n",
       "        text-align: right;\n",
       "    }\n",
       "</style>\n",
       "<table border=\"1\" class=\"dataframe\">\n",
       "  <thead>\n",
       "    <tr style=\"text-align: right;\">\n",
       "      <th></th>\n",
       "      <th>longitude</th>\n",
       "      <th>latitude</th>\n",
       "      <th>housing_median_age</th>\n",
       "      <th>total_rooms</th>\n",
       "      <th>total_bedrooms</th>\n",
       "      <th>population</th>\n",
       "      <th>households</th>\n",
       "      <th>median_income</th>\n",
       "      <th>ocean_proximity</th>\n",
       "      <th>rooms_per_household</th>\n",
       "      <th>population_per_household</th>\n",
       "    </tr>\n",
       "  </thead>\n",
       "  <tbody>\n",
       "    <tr>\n",
       "      <th>0</th>\n",
       "      <td>-117.03</td>\n",
       "      <td>32.71</td>\n",
       "      <td>33.0</td>\n",
       "      <td>3126.0</td>\n",
       "      <td>627.0</td>\n",
       "      <td>2300.0</td>\n",
       "      <td>623.0</td>\n",
       "      <td>3.2596</td>\n",
       "      <td>NEAR OCEAN</td>\n",
       "      <td>5.017657</td>\n",
       "      <td>3.691814</td>\n",
       "    </tr>\n",
       "    <tr>\n",
       "      <th>1</th>\n",
       "      <td>-118.16</td>\n",
       "      <td>33.77</td>\n",
       "      <td>49.0</td>\n",
       "      <td>3382.0</td>\n",
       "      <td>787.0</td>\n",
       "      <td>1314.0</td>\n",
       "      <td>756.0</td>\n",
       "      <td>3.8125</td>\n",
       "      <td>NEAR OCEAN</td>\n",
       "      <td>4.473545</td>\n",
       "      <td>1.738095</td>\n",
       "    </tr>\n",
       "    <tr>\n",
       "      <th>2</th>\n",
       "      <td>-120.48</td>\n",
       "      <td>34.66</td>\n",
       "      <td>4.0</td>\n",
       "      <td>1897.0</td>\n",
       "      <td>331.0</td>\n",
       "      <td>915.0</td>\n",
       "      <td>336.0</td>\n",
       "      <td>4.1563</td>\n",
       "      <td>NEAR OCEAN</td>\n",
       "      <td>5.645833</td>\n",
       "      <td>2.723214</td>\n",
       "    </tr>\n",
       "    <tr>\n",
       "      <th>3</th>\n",
       "      <td>-117.11</td>\n",
       "      <td>32.69</td>\n",
       "      <td>36.0</td>\n",
       "      <td>1421.0</td>\n",
       "      <td>367.0</td>\n",
       "      <td>1418.0</td>\n",
       "      <td>355.0</td>\n",
       "      <td>1.9425</td>\n",
       "      <td>NEAR OCEAN</td>\n",
       "      <td>4.002817</td>\n",
       "      <td>3.994366</td>\n",
       "    </tr>\n",
       "    <tr>\n",
       "      <th>4</th>\n",
       "      <td>-119.8</td>\n",
       "      <td>36.78</td>\n",
       "      <td>43.0</td>\n",
       "      <td>2382.0</td>\n",
       "      <td>431.0</td>\n",
       "      <td>874.0</td>\n",
       "      <td>380.0</td>\n",
       "      <td>3.5542</td>\n",
       "      <td>INLAND</td>\n",
       "      <td>6.268421</td>\n",
       "      <td>2.3</td>\n",
       "    </tr>\n",
       "  </tbody>\n",
       "</table>\n",
       "</div>"
      ],
      "text/plain": [
       "  longitude latitude housing_median_age total_rooms total_bedrooms population  \\\n",
       "0   -117.03    32.71               33.0      3126.0          627.0     2300.0   \n",
       "1   -118.16    33.77               49.0      3382.0          787.0     1314.0   \n",
       "2   -120.48    34.66                4.0      1897.0          331.0      915.0   \n",
       "3   -117.11    32.69               36.0      1421.0          367.0     1418.0   \n",
       "4    -119.8    36.78               43.0      2382.0          431.0      874.0   \n",
       "\n",
       "  households median_income ocean_proximity rooms_per_household  \\\n",
       "0      623.0        3.2596      NEAR OCEAN            5.017657   \n",
       "1      756.0        3.8125      NEAR OCEAN            4.473545   \n",
       "2      336.0        4.1563      NEAR OCEAN            5.645833   \n",
       "3      355.0        1.9425      NEAR OCEAN            4.002817   \n",
       "4      380.0        3.5542          INLAND            6.268421   \n",
       "\n",
       "  population_per_household  \n",
       "0                 3.691814  \n",
       "1                 1.738095  \n",
       "2                 2.723214  \n",
       "3                 3.994366  \n",
       "4                      2.3  "
      ]
     },
     "execution_count": 242,
     "metadata": {},
     "output_type": "execute_result"
    }
   ],
   "source": [
    "housing_extra_attribs = attr_adder.transform(X_train.values)\n",
    "\n",
    "# Transformando em DataFrame, porque DataFrames são mais amigáveis.\n",
    "columns_housing_extra_attribs = list(X_train.columns) + [\"rooms_per_household\", \"population_per_household\"]\n",
    "housing_extra_attribs = pd.DataFrame(housing_extra_attribs, columns=columns_housing_extra_attribs)\n",
    "housing_extra_attribs.head()"
   ]
  },
  {
   "cell_type": "code",
   "execution_count": 243,
   "metadata": {},
   "outputs": [
    {
     "data": {
      "text/plain": [
       "array([[ 1.27258656, -1.3728112 ,  0.34849025, ..., -0.17491646,\n",
       "         0.05137609, -0.2117846 ],\n",
       "       [ 0.70916212, -0.87669601,  1.61811813, ..., -0.40283542,\n",
       "        -0.11736222,  0.34218528],\n",
       "       [-0.44760309, -0.46014647, -1.95271028, ...,  0.08821601,\n",
       "        -0.03227969, -0.66165785],\n",
       "       ...,\n",
       "       [ 0.59946887, -0.75500738,  0.58654547, ..., -0.60675918,\n",
       "         0.02030568,  0.99951387],\n",
       "       [-1.18553953,  0.90651045, -1.07984112, ...,  0.40217517,\n",
       "         0.00707608, -0.79086209],\n",
       "       [-1.41489815,  0.99543676,  1.85617335, ..., -0.85144571,\n",
       "        -0.08535429,  1.69520292]])"
      ]
     },
     "execution_count": 243,
     "metadata": {},
     "output_type": "execute_result"
    }
   ],
   "source": [
    "from sklearn.pipeline import Pipeline\n",
    "from sklearn.preprocessing import StandardScaler\n",
    "from sklearn.impute import SimpleImputer\n",
    "\n",
    "num_pipeline = Pipeline([\n",
    "        ('imputer', SimpleImputer(strategy=\"median\")),\n",
    "        ('attribs_adder', CombinedAttributesAdder()),\n",
    "        ('std_scaler', StandardScaler()),\n",
    "    ])\n",
    "\n",
    "housing_num_tr = num_pipeline.fit_transform(X_train_num)\n",
    "housing_num_tr"
   ]
  },
  {
   "cell_type": "code",
   "execution_count": 244,
   "metadata": {},
   "outputs": [
    {
     "data": {
      "text/plain": [
       "['longitude',\n",
       " 'latitude',\n",
       " 'housing_median_age',\n",
       " 'total_rooms',\n",
       " 'total_bedrooms',\n",
       " 'population',\n",
       " 'households',\n",
       " 'median_income']"
      ]
     },
     "execution_count": 244,
     "metadata": {},
     "output_type": "execute_result"
    }
   ],
   "source": [
    "list(X_train_num)"
   ]
  },
  {
   "cell_type": "code",
   "execution_count": 245,
   "metadata": {},
   "outputs": [
    {
     "name": "stderr",
     "output_type": "stream",
     "text": [
      "/Users/tomasalessi/INSPER/4-Semestre/ML/Machine-Learning/env/lib/python3.11/site-packages/sklearn/preprocessing/_encoders.py:972: FutureWarning: `sparse` was renamed to `sparse_output` in version 1.2 and will be removed in 1.4. `sparse_output` is ignored unless you leave `sparse` to its default value.\n",
      "  warnings.warn(\n"
     ]
    }
   ],
   "source": [
    "from sklearn.compose import ColumnTransformer\n",
    "\n",
    "num_attribs = list(X_train_num)\n",
    "cat_attribs = [\"ocean_proximity\"]\n",
    "\n",
    "full_pipeline = ColumnTransformer([\n",
    "        (\"num\", num_pipeline, num_attribs),\n",
    "        (\"cat\", cat_pipeline, cat_attribs),\n",
    "    ])\n",
    "\n",
    "X_train_prepared = full_pipeline.fit_transform(X_train)"
   ]
  },
  {
   "cell_type": "code",
   "execution_count": 246,
   "metadata": {},
   "outputs": [
    {
     "data": {
      "text/html": [
       "<div>\n",
       "<style scoped>\n",
       "    .dataframe tbody tr th:only-of-type {\n",
       "        vertical-align: middle;\n",
       "    }\n",
       "\n",
       "    .dataframe tbody tr th {\n",
       "        vertical-align: top;\n",
       "    }\n",
       "\n",
       "    .dataframe thead th {\n",
       "        text-align: right;\n",
       "    }\n",
       "</style>\n",
       "<table border=\"1\" class=\"dataframe\">\n",
       "  <thead>\n",
       "    <tr style=\"text-align: right;\">\n",
       "      <th></th>\n",
       "      <th>longitude</th>\n",
       "      <th>latitude</th>\n",
       "      <th>housing_median_age</th>\n",
       "      <th>total_rooms</th>\n",
       "      <th>total_bedrooms</th>\n",
       "      <th>population</th>\n",
       "      <th>households</th>\n",
       "      <th>median_income</th>\n",
       "      <th>rooms_per_household</th>\n",
       "      <th>population_per_household</th>\n",
       "      <th>bedrooms_per_room</th>\n",
       "      <th>INLAND</th>\n",
       "      <th>ISLAND</th>\n",
       "      <th>NEAR BAY</th>\n",
       "      <th>NEAR OCEAN</th>\n",
       "    </tr>\n",
       "  </thead>\n",
       "  <tbody>\n",
       "    <tr>\n",
       "      <th>0</th>\n",
       "      <td>1.272587</td>\n",
       "      <td>-1.372811</td>\n",
       "      <td>0.348490</td>\n",
       "      <td>0.222569</td>\n",
       "      <td>0.211228</td>\n",
       "      <td>0.768276</td>\n",
       "      <td>0.322906</td>\n",
       "      <td>-0.326196</td>\n",
       "      <td>-0.174916</td>\n",
       "      <td>0.051376</td>\n",
       "      <td>-0.211785</td>\n",
       "      <td>0.0</td>\n",
       "      <td>0.0</td>\n",
       "      <td>0.0</td>\n",
       "      <td>1.0</td>\n",
       "    </tr>\n",
       "    <tr>\n",
       "      <th>1</th>\n",
       "      <td>0.709162</td>\n",
       "      <td>-0.876696</td>\n",
       "      <td>1.618118</td>\n",
       "      <td>0.340293</td>\n",
       "      <td>0.593094</td>\n",
       "      <td>-0.098901</td>\n",
       "      <td>0.672027</td>\n",
       "      <td>-0.035843</td>\n",
       "      <td>-0.402835</td>\n",
       "      <td>-0.117362</td>\n",
       "      <td>0.342185</td>\n",
       "      <td>0.0</td>\n",
       "      <td>0.0</td>\n",
       "      <td>0.0</td>\n",
       "      <td>1.0</td>\n",
       "    </tr>\n",
       "    <tr>\n",
       "      <th>2</th>\n",
       "      <td>-0.447603</td>\n",
       "      <td>-0.460146</td>\n",
       "      <td>-1.952710</td>\n",
       "      <td>-0.342597</td>\n",
       "      <td>-0.495226</td>\n",
       "      <td>-0.449818</td>\n",
       "      <td>-0.430461</td>\n",
       "      <td>0.144701</td>\n",
       "      <td>0.088216</td>\n",
       "      <td>-0.032280</td>\n",
       "      <td>-0.661658</td>\n",
       "      <td>0.0</td>\n",
       "      <td>0.0</td>\n",
       "      <td>0.0</td>\n",
       "      <td>1.0</td>\n",
       "    </tr>\n",
       "    <tr>\n",
       "      <th>3</th>\n",
       "      <td>1.232698</td>\n",
       "      <td>-1.382172</td>\n",
       "      <td>0.586545</td>\n",
       "      <td>-0.561490</td>\n",
       "      <td>-0.409306</td>\n",
       "      <td>-0.007434</td>\n",
       "      <td>-0.380587</td>\n",
       "      <td>-1.017864</td>\n",
       "      <td>-0.600015</td>\n",
       "      <td>0.077507</td>\n",
       "      <td>0.783032</td>\n",
       "      <td>0.0</td>\n",
       "      <td>0.0</td>\n",
       "      <td>0.0</td>\n",
       "      <td>1.0</td>\n",
       "    </tr>\n",
       "    <tr>\n",
       "      <th>4</th>\n",
       "      <td>-0.108551</td>\n",
       "      <td>0.532084</td>\n",
       "      <td>1.142008</td>\n",
       "      <td>-0.119565</td>\n",
       "      <td>-0.256559</td>\n",
       "      <td>-0.485877</td>\n",
       "      <td>-0.314962</td>\n",
       "      <td>-0.171488</td>\n",
       "      <td>0.349007</td>\n",
       "      <td>-0.068832</td>\n",
       "      <td>-0.550364</td>\n",
       "      <td>1.0</td>\n",
       "      <td>0.0</td>\n",
       "      <td>0.0</td>\n",
       "      <td>0.0</td>\n",
       "    </tr>\n",
       "  </tbody>\n",
       "</table>\n",
       "</div>"
      ],
      "text/plain": [
       "   longitude  latitude  housing_median_age  total_rooms  total_bedrooms  \\\n",
       "0   1.272587 -1.372811            0.348490     0.222569        0.211228   \n",
       "1   0.709162 -0.876696            1.618118     0.340293        0.593094   \n",
       "2  -0.447603 -0.460146           -1.952710    -0.342597       -0.495226   \n",
       "3   1.232698 -1.382172            0.586545    -0.561490       -0.409306   \n",
       "4  -0.108551  0.532084            1.142008    -0.119565       -0.256559   \n",
       "\n",
       "   population  households  median_income  rooms_per_household  \\\n",
       "0    0.768276    0.322906      -0.326196            -0.174916   \n",
       "1   -0.098901    0.672027      -0.035843            -0.402835   \n",
       "2   -0.449818   -0.430461       0.144701             0.088216   \n",
       "3   -0.007434   -0.380587      -1.017864            -0.600015   \n",
       "4   -0.485877   -0.314962      -0.171488             0.349007   \n",
       "\n",
       "   population_per_household  bedrooms_per_room  INLAND  ISLAND  NEAR BAY  \\\n",
       "0                  0.051376          -0.211785     0.0     0.0       0.0   \n",
       "1                 -0.117362           0.342185     0.0     0.0       0.0   \n",
       "2                 -0.032280          -0.661658     0.0     0.0       0.0   \n",
       "3                  0.077507           0.783032     0.0     0.0       0.0   \n",
       "4                 -0.068832          -0.550364     1.0     0.0       0.0   \n",
       "\n",
       "   NEAR OCEAN  \n",
       "0         1.0  \n",
       "1         1.0  \n",
       "2         1.0  \n",
       "3         1.0  \n",
       "4         0.0  "
      ]
     },
     "execution_count": 246,
     "metadata": {},
     "output_type": "execute_result"
    }
   ],
   "source": [
    "# For numerical attributes, column names remain the same\n",
    "num_attribs = list(X_train_num)\n",
    "\n",
    "# For categorical attributes, get the categories and make new names\n",
    "cat_encoder = full_pipeline.named_transformers_['cat'].named_steps['cat_encoder']\n",
    "cat_one_hot_attribs = list(cat_encoder.categories_[0])[1:]  # Skip the first category due to drop='first'\n",
    "\n",
    "# Combine the lists to get full list of column names\n",
    "column_names = num_attribs + [\"rooms_per_household\", \"population_per_household\",\"bedrooms_per_room\"] + cat_one_hot_attribs\n",
    "\n",
    "# Create a DataFrame\n",
    "X_train_df = pd.DataFrame(X_train_prepared, columns=column_names)\n",
    "\n",
    "X_train_df.head()"
   ]
  },
  {
   "cell_type": "code",
   "execution_count": 247,
   "metadata": {},
   "outputs": [],
   "source": [
    "from sklearn.model_selection import train_test_split\n",
    "X_train_val, X_test_val, y_train_val, y_test_val = train_test_split(X_train_prepared, y_train, test_size=0.2, random_state=RANDOM_SEED)"
   ]
  },
  {
   "cell_type": "markdown",
   "metadata": {},
   "source": [
    "Models"
   ]
  },
  {
   "cell_type": "code",
   "execution_count": 248,
   "metadata": {},
   "outputs": [],
   "source": [
    "from sklearn.linear_model import LinearRegression\n",
    "from sklearn.tree import DecisionTreeRegressor\n",
    "from sklearn.ensemble import RandomForestRegressor\n",
    "\n",
    "# Linear Regression\n",
    "lin_reg = LinearRegression()\n",
    "\n",
    "\n",
    "# Decision Tree Regressor\n",
    "tree_reg = DecisionTreeRegressor(random_state=RANDOM_SEED)\n",
    "\n",
    "\n",
    "\n",
    "# Random Forest Regressor\n",
    "forest_reg = RandomForestRegressor(n_estimators=100, random_state=RANDOM_SEED)\n",
    "\n"
   ]
  },
  {
   "cell_type": "markdown",
   "metadata": {},
   "source": [
    "## Cross-Validation\n",
    "\n",
    "Cross-validation is a technique used to assess how well a machine learning model will generalize to an independent dataset. It is primarily used in settings where the goal is to predict an outcome and want to estimate how accurately a predictive model will perform in practice.\n",
    "\n",
    "### How Does It Work?\n",
    "\n",
    "1. **Partition the Dataset**: The original training dataset is divided into `k` equally (or almost equally) sized folds or subsets.\n",
    "   \n",
    "2. **Training and Validation**: The model is trained on `k-1` of these folds and validated on the remaining one. This process is repeated `k` times, each time with a different fold serving as the validation set.\n",
    "   \n",
    "3. **Average Performance**: The performance measure (e.g., accuracy, F1 score, etc.) for each of the `k` iterations is averaged to obtain a single score.\n",
    "\n",
    "### Advantages\n",
    "\n",
    "- **Better Generalization**: It provides a more robust way to assess the performance of a model on an independent dataset.\n",
    "  \n",
    "- **Utilizes Data Efficiently**: It allows for efficient use of data as each observation is used for both training and validation.\n",
    "\n",
    "### Example Code in Python\n",
    "\n",
    "```python\n",
    "from sklearn.model_selection import cross_val_score\n",
    "scores = cross_val_score(model, X_train, y_train, cv=5)\n"
   ]
  },
  {
   "cell_type": "code",
   "execution_count": 252,
   "metadata": {},
   "outputs": [],
   "source": [
    "from sklearn.model_selection import cross_val_score\n",
    "\n",
    "lin_scores = cross_val_score(lin_reg, X_train_prepared, y_train, scoring=\"neg_mean_squared_error\", cv=10)\n",
    "lin_rmse_scores = np.sqrt(-lin_scores)\n",
    "\n",
    "tree_scores = cross_val_score(tree_reg, X_train_prepared, y_train, scoring=\"neg_mean_squared_error\", cv=10)\n",
    "tree_rmse_scores = np.sqrt(-tree_scores)\n",
    "\n",
    "forest_scores = cross_val_score(forest_reg, X_train_prepared, y_train, scoring=\"neg_mean_squared_error\", cv=10)\n",
    "forest_rmse_scores = np.sqrt(-forest_scores)"
   ]
  },
  {
   "cell_type": "code",
   "execution_count": 253,
   "metadata": {},
   "outputs": [],
   "source": [
    "def display_scores(scores):\n",
    "    print(\"Scores (ordenados): [{}]\".format(\" \".join([\"{:.2f}\".format(x) for x in sorted(scores)])))\n",
    "    print(\"Mean:\", scores.mean())\n",
    "    print(\"Standard deviation:\", scores.std())\n"
   ]
  },
  {
   "cell_type": "code",
   "execution_count": 254,
   "metadata": {},
   "outputs": [
    {
     "name": "stdout",
     "output_type": "stream",
     "text": [
      "Scores (ordenados): [65000.67 65218.78 65266.35 66089.63 67122.64 68402.55 68525.47 68957.34 70960.56 72739.88]\n",
      "Mean: 67828.38677377408\n",
      "Standard deviation: 2468.0913950652302\n",
      "Scores (ordenados): [65333.63 65495.54 66052.18 66694.27 66867.79 68390.41 70707.54 70914.83 71226.93 74419.88]\n",
      "Mean: 68610.29952929978\n",
      "Standard deviation: 2899.0580212663745\n",
      "Scores (ordenados): [47010.08 47210.02 47344.71 49308.39 49486.80 50163.43 50730.27 51674.69 51734.31 52782.81]\n",
      "Mean: 49744.55091778306\n",
      "Standard deviation: 1948.8394003839453\n"
     ]
    }
   ],
   "source": [
    "display_scores(lin_rmse_scores)\n",
    "display_scores(tree_rmse_scores)\n",
    "display_scores(forest_rmse_scores)"
   ]
  },
  {
   "cell_type": "markdown",
   "metadata": {},
   "source": [
    "## 1. Definição do Problema\n",
    "- Entendimento do problema e dos objetivos\n",
    "- Identificação das variáveis-alvo\n",
    "- Escolha das métricas de avaliação\n"
   ]
  },
  {
   "cell_type": "markdown",
   "metadata": {},
   "source": [
    "## 3. Análise Exploratória de Dados (EDA)\n",
    "- Estatísticas descritivas\n",
    "- Visualização dos dados\n",
    "- Identificação de padrões e anomalias"
   ]
  },
  {
   "cell_type": "markdown",
   "metadata": {},
   "source": [
    "## 4. Pré-processamento de Dados\n",
    "- Limpeza de dados\n",
    "- Transformação de variáveis\n",
    "- Tratamento de dados ausentes\n",
    "- Normalização e padronização\n",
    "\n",
    "## 5. Divisão dos Dados\n",
    "- Conjunto de treino\n",
    "- Conjunto de teste\n",
    "- Conjunto de validação (opcional)\n",
    "\n",
    "## 6. Seleção de Modelos\n",
    "- Escolha de algoritmos apropriados\n",
    "- Implementação de modelos de base (baseline)\n",
    "\n",
    "## 7. Treinamento de Modelos\n",
    "- Otimização de hiperparâmetros\n",
    "- Treinamento com dados de treino\n",
    "\n",
    "## 8. Avaliação de Modelos\n",
    "- Utilização de métricas de avaliação\n",
    "- Comparação com modelos de base (baseline)\n",
    "\n",
    "## 9. Afinação do Modelo (Tuning)\n",
    "- Ajuste de hiperparâmetros\n",
    "- Feature engineering\n",
    "\n",
    "## 10. Implementação\n",
    "- Integração do modelo em um sistema de produção\n",
    "- Monitoramento e manutenção\n",
    "\n",
    "## 11. Documentação e Comunicação\n",
    "- Documentação do projeto\n",
    "- Comunicação dos resultados\n",
    "\n"
   ]
  },
  {
   "cell_type": "markdown",
   "metadata": {},
   "source": [
    "# Aula 02 03 Regressão California Real State Prices"
   ]
  },
  {
   "cell_type": "markdown",
   "metadata": {},
   "source": [
    "Medida de desempenho\n",
    "$$RMSE(\\mathbf{X}, \\mathbf{y}, h) = \n",
    "\\sqrt{\\frac{1}{m} \\sum_{i=1}^{m}\\left(h(\\mathbf{x}_i) - \\mathbf{y}_i\\right)^{2}}$$"
   ]
  },
  {
   "cell_type": "markdown",
   "metadata": {},
   "source": [
    "Cross Validation"
   ]
  },
  {
   "cell_type": "markdown",
   "metadata": {},
   "source": [
    "Ajuste Hiperparâmetros\n",
    "\n",
    "Hiperparâmetros são configurações externas para um modelo de aprendizado de máquina que não são aprendidas a partir dos dados. Eles são como \"configurações\" para um algoritmo e influenciam o desempenho do modelo. Diferentemente dos parâmetros do modelo, que são derivados durante o treinamento, os hiperparâmetros são configurados antes do treinamento e permanecem constantes durante o processo.\n",
    "\n",
    "Para Algoritmos de Gradiente Descendente\n",
    " - Taxa de aprendizado\n",
    " - Momento\n",
    " - Taxa de decaimento\n",
    "\n",
    "Otimização de Hiperparâmetros\n",
    "- *Grid Search*: Experimentação exaustiva por meio de uma grade predefinida de valores de hiperparâmetros."
   ]
  },
  {
   "cell_type": "markdown",
   "metadata": {},
   "source": [
    "## Dividindo os dados em conjunto de treinamento e de testes"
   ]
  },
  {
   "cell_type": "markdown",
   "metadata": {},
   "source": [
    "# Aula 05 Classificação MNIST"
   ]
  },
  {
   "cell_type": "code",
   "execution_count": null,
   "metadata": {},
   "outputs": [
    {
     "data": {
      "text/plain": [
       "array([[4, 1],\n",
       "       [0, 5]])"
      ]
     },
     "execution_count": 179,
     "metadata": {},
     "output_type": "execute_result"
    }
   ],
   "source": [
    "from sklearn.metrics import confusion_matrix\n",
    "\n",
    "\n",
    "\n",
    "# Ambos de teste\n",
    "\n",
    "y_true = [1, 0, 1, 0, 1, 0, 1, 0, 1, 0]\n",
    "y_pred = [1, 1, 1, 0, 1, 0, 1, 0, 1, 0]\n",
    "\n",
    "matc = confusion_matrix(y_true, y_pred)\n",
    "matc"
   ]
  },
  {
   "cell_type": "code",
   "execution_count": null,
   "metadata": {},
   "outputs": [
    {
     "name": "stdout",
     "output_type": "stream",
     "text": [
      "0.8333333333333334\n",
      "1.0\n"
     ]
    }
   ],
   "source": [
    "from sklearn.metrics import precision_score, recall_score\n",
    "print(precision_score(y_true, y_pred))\n",
    "print(recall_score(y_true, y_pred))"
   ]
  },
  {
   "cell_type": "code",
   "execution_count": null,
   "metadata": {},
   "outputs": [],
   "source": []
  },
  {
   "cell_type": "markdown",
   "metadata": {},
   "source": [
    "Thus in binary classification, \n",
    "\n",
    "the count of true negatives is:math:`C_{0,0}`, \n",
    "\n",
    "false negatives is :math:`C_{1,0}`,\n",
    "\n",
    "true positives is :math:`C_{1,1}` \n",
    "\n",
    " false positives is :math:`C_{0,1}`.\n"
   ]
  },
  {
   "cell_type": "markdown",
   "metadata": {},
   "source": [
    "### Métricas para avaliar desempenho em classificação\n",
    "\n",
    "#### Matriz de confusão\n",
    "\\[\n",
    "\\begin{array}{|c|c|c|}\n",
    "\\hline\n",
    "  & \\text{Predito: Positivo} & \\text{Predito: Negativo} \\\\\n",
    "\\hline\n",
    "\\text{Real: Positivo} & TP (\\text{True Positive}) & FN (\\text{False Negative}) \\\\\n",
    "\\hline\n",
    "\\text{Real: Negativo} & FP (\\text{False Positive}) & TN (\\text{True Negative}) \\\\\n",
    "\\hline\n",
    "\\end{array}\n",
    "\\]\n"
   ]
  },
  {
   "cell_type": "markdown",
   "metadata": {},
   "source": [
    "A medida de acurácia não permite distinguir entre os tipos de erro. Duas medidas mais comuns que são empregadas em machine learning são a **precision** (precisão) e **recall** (revocação), definidas como:\n",
    "\n",
    "- Precision: Dentre os elementos classificados como positivos, quantos realmente são positivos?\n",
    "\n",
    "$$\\text{precision} = \\frac{TP}{TP + FP}$$\n",
    "\n",
    "Alto Precision: Preza pela certeza que ao classificar uma amostar como positiva ela será positvo, e é mais permissível com erros onde positivos não são classificados como positivos. \n",
    "\n",
    "- Recall: Dentre os elementos verdadeiramente positivos, quantos foram detectados como positivos?\n",
    "\n",
    "$$\\text{recall} = \\frac{TP}{TP + FN}$$\n",
    "\n",
    "Alto Recall: Preza para que a maior parte possível de amostras positivas sejam classificados como positiva, e é mais permissível com erros onde negativos são classificados como positivos.\n"
   ]
  },
  {
   "cell_type": "markdown",
   "metadata": {},
   "source": [
    "# Aula 9"
   ]
  },
  {
   "cell_type": "markdown",
   "metadata": {},
   "source": [
    "Se as colunas de X são linearmentes dependentes então XtX tem determinante =0  e portando não é inversível\n",
    "\n",
    "\n",
    "Theta Ótimo = (XtX) ^-1  XtY"
   ]
  },
  {
   "cell_type": "markdown",
   "metadata": {},
   "source": []
  },
  {
   "cell_type": "markdown",
   "metadata": {},
   "source": []
  },
  {
   "cell_type": "markdown",
   "metadata": {},
   "source": [
    "## Sumário\n",
    "\n",
    "1. [Introdução](#Introdução)\n",
    "2. [Entendendo o Problema](#Entendendo-o-Problema)\n",
    "3. [Coleta de Dados](#Coleta-de-Dados)\n",
    "4. [Análise Exploratória de Dados](#Análise-Exploratória-de-Dados)\n",
    "5. [Preparação dos Dados](#Preparação-dos-Dados)\n",
    "6. [Seleção e Treinamento de Modelos](#Seleção-e-Treinamento-de-Modelos)\n",
    "7. [Avaliação do Modelo](#Avaliação-do-Modelo)\n",
    "8. [Afinação do Modelo](#Afinação-do-Modelo)\n",
    "9. [Conclusão](#Conclusão)"
   ]
  },
  {
   "cell_type": "markdown",
   "metadata": {},
   "source": [
    "## Grid Search\n",
    "\n",
    "Grid Search is an optimization technique used for hyperparameter tuning in machine learning models. The idea is to define a \"grid\" of hyperparameters and then search exhaustively through all possible combinations in this grid.\n",
    "\n",
    "### How Does It Work?\n",
    "\n",
    "1. **Define Parameter Grid**: Create a dictionary containing all the hyperparameters you want to tune, and the possible values they can take.\n",
    "\n",
    "2. **Exhaustive Search**: The algorithm trains a model for every combination of hyperparameters specified in the grid.\n",
    "\n",
    "3. **Best Model**: After training, Grid Search selects the combination of hyperparameters that yield the best performance based on a specified metric (e.g., accuracy, F1 score, etc.).\n",
    "\n",
    "### Advantages\n",
    "\n",
    "- **Comprehensive**: Searches through all possible combinations in the defined grid.\n",
    "  \n",
    "- **Automated Tuning**: Saves time and effort in manual hyperparameter tuning.\n",
    "\n",
    "### Limitations\n",
    "\n",
    "- **Computationally Expensive**: The number of models trained is equal to the product of the number of values for each hyperparameter. \n",
    "\n",
    "- **No Guarantees**: The optimal hyperparameters may not be in the predefined grid.\n",
    "\n",
    "### Example Code in Python\n",
    "\n",
    "```python\n",
    "from sklearn.model_selection import GridSearchCV\n",
    "\n",
    "# Define the parameter grid\n",
    "param_grid = {\n",
    "    'n_estimators': [50, 100, 200],\n",
    "    'max_depth': [10, 20, 30]\n",
    "}\n",
    "\n",
    "# Create a GridSearch object\n",
    "grid_search = GridSearchCV(estimator=model, param_grid=param_grid, cv=5)\n",
    "\n",
    "# Fit the model\n",
    "grid_search.fit(X_train, y_train)\n",
    "\n",
    "# Get the best parameters\n",
    "best_params = grid_search.best_params_\n"
   ]
  },
  {
   "cell_type": "markdown",
   "metadata": {},
   "source": [
    "A Curva ROC é uma ferramenta gráfica utilizada para avaliar o desempenho de um modelo de classificação. Ela é traçada com o TPR (Taxa de Verdadeiros Positivos) no eixo Y e o FPR (Taxa de Falsos Positivos) no eixo X.\n",
    "\n",
    "### Como Funciona?\n",
    "\n",
    "1. **Calcular TPR e FPR**: Para cada ponto de corte possível do modelo, calculam-se as taxas de verdadeiros positivos (TPR) e falsos positivos (FPR).\n",
    "\n",
    "2. **Traçar a Curva**: A curva é traçada no plano TPR vs FPR.\n",
    "\n",
    "3. **Área Sob a Curva (AUC)**: A área sob a curva ROC (AUC-ROC) é uma métrica que quantifica o desempenho geral do modelo. Um valor de AUC igual a 1 indica um modelo perfeito, enquanto um valor de AUC igual a 0,5 indica um modelo que não tem capacidade de discriminação.\n",
    "\n",
    "### Vantagens\n",
    "\n",
    "- **Sensibilidade vs Especificidade**: A Curva ROC permite visualizar o trade-off entre sensibilidade (TPR) e especificidade (1 - FPR).\n",
    "\n",
    "- **Comparação de Modelos**: É possível comparar o desempenho de diferentes modelos traçando suas curvas ROC no mesmo gráfico.\n"
   ]
  },
  {
   "cell_type": "markdown",
   "metadata": {},
   "source": []
  }
 ],
 "metadata": {
  "kernelspec": {
   "display_name": "env",
   "language": "python",
   "name": "python3"
  },
  "language_info": {
   "codemirror_mode": {
    "name": "ipython",
    "version": 3
   },
   "file_extension": ".py",
   "mimetype": "text/x-python",
   "name": "python",
   "nbconvert_exporter": "python",
   "pygments_lexer": "ipython3",
   "version": "3.11.3"
  },
  "orig_nbformat": 4
 },
 "nbformat": 4,
 "nbformat_minor": 2
}
